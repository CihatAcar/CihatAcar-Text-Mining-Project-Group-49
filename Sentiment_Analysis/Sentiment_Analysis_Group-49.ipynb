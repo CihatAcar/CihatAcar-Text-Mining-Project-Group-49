{
 "cells": [
  {
   "cell_type": "markdown",
   "id": "27031ebc",
   "metadata": {
    "id": "27031ebc"
   },
   "source": [
    "**Text mining project: sentiment analysis**\n",
    "<br>Group 49"
   ]
  },
  {
   "cell_type": "code",
   "execution_count": 12,
   "id": "dc0d1fa6",
   "metadata": {
    "id": "dc0d1fa6"
   },
   "outputs": [],
   "source": [
    "import pandas as pd\n",
    "test_data = pd.read_csv('sentiment-topic-final-test.tsv',sep='\\t')"
   ]
  },
  {
   "cell_type": "code",
   "execution_count": 14,
   "id": "2bf65362",
   "metadata": {
    "colab": {
     "base_uri": "https://localhost:8080/"
    },
    "id": "2bf65362",
    "outputId": "6ab3af58-42a3-45ad-db23-c868c61bdf81"
   },
   "outputs": [
    {
     "data": {
      "text/plain": [
       "['sentence id', 'text', 'sentiment', 'topic']"
      ]
     },
     "execution_count": 14,
     "metadata": {},
     "output_type": "execute_result"
    }
   ],
   "source": [
    "list(test_data.columns)"
   ]
  },
  {
   "cell_type": "code",
   "execution_count": 16,
   "id": "aa7a8562",
   "metadata": {
    "colab": {
     "base_uri": "https://localhost:8080/"
    },
    "id": "aa7a8562",
    "outputId": "792b456a-ea67-4c52-8ae6-d630edafbf62"
   },
   "outputs": [
    {
     "name": "stderr",
     "output_type": "stream",
     "text": [
      "[nltk_data] Downloading package vader_lexicon to /root/nltk_data...\n",
      "[nltk_data]   Package vader_lexicon is already up-to-date!\n"
     ]
    }
   ],
   "source": [
    "import nltk\n",
    "from nltk.sentiment import vader\n",
    "from nltk.sentiment.vader import SentimentIntensityAnalyzer\n",
    "nltk.download('vader_lexicon')\n",
    "vader_model = SentimentIntensityAnalyzer()\n",
    "import spacy\n",
    "nlp = spacy.load('en_core_web_sm')\n",
    "import sklearn"
   ]
  },
  {
   "cell_type": "markdown",
   "id": "cf1ff021",
   "metadata": {},
   "source": [
    "**Rule-based sentiment analysis (VADER)**"
   ]
  },
  {
   "cell_type": "code",
   "execution_count": 17,
   "id": "72e61282",
   "metadata": {
    "id": "72e61282"
   },
   "outputs": [],
   "source": [
    "def run_vader(textual_unit, \n",
    "              lemmatize=False, \n",
    "              parts_of_speech_to_consider=None,\n",
    "              verbose=0):\n",
    "    \"\"\"\n",
    "    Run VADER on a sentence from spacy\n",
    "    \n",
    "    :param str textual unit: a textual unit, e.g., sentence, sentences (one string)\n",
    "    (by looping over doc.sents)\n",
    "    :param bool lemmatize: If True, provide lemmas to VADER instead of words\n",
    "    :param set parts_of_speech_to_consider:\n",
    "    -None or empty set: all parts of speech are provided\n",
    "    -non-empty set: only these parts of speech are considered.\n",
    "    :param int verbose: if set to 1, information is printed\n",
    "    about input and output\n",
    "    \n",
    "    :rtype: dict\n",
    "    :return: vader output dict\n",
    "    \"\"\"\n",
    "    doc = nlp(textual_unit)\n",
    "        \n",
    "    input_to_vader = []\n",
    "\n",
    "    for sent in doc.sents:\n",
    "        for token in sent:\n",
    "\n",
    "            to_add = token.text\n",
    "\n",
    "            if lemmatize:\n",
    "                to_add = token.lemma_\n",
    "\n",
    "                if to_add == '-PRON-': \n",
    "                    to_add = token.text\n",
    "\n",
    "            if parts_of_speech_to_consider:\n",
    "                if token.pos_ in parts_of_speech_to_consider:\n",
    "                    input_to_vader.append(to_add) \n",
    "            else:\n",
    "                input_to_vader.append(to_add)\n",
    "\n",
    "    scores = vader_model.polarity_scores(' '.join(input_to_vader))\n",
    "    \n",
    "    if verbose >= 1:\n",
    "        print()\n",
    "        print('INPUT SENTENCE', sent)\n",
    "        print('INPUT TO VADER', input_to_vader)\n",
    "        print('VADER OUTPUT', scores)\n",
    "\n",
    "    return scores"
   ]
  },
  {
   "cell_type": "code",
   "execution_count": 18,
   "id": "355d8575",
   "metadata": {
    "id": "355d8575"
   },
   "outputs": [],
   "source": [
    "def vader_output_to_label(vader_output):\n",
    "    \"\"\"\n",
    "    map vader output e.g.,\n",
    "    {'neg': 0.0, 'neu': 0.0, 'pos': 1.0, 'compound': 0.4215}\n",
    "    to one of the following values:\n",
    "    a) positive float -> 'positive'\n",
    "    b) 0.0 -> 'neutral'\n",
    "    c) negative float -> 'negative'\n",
    "    \n",
    "    :param dict vader_output: output dict from vader\n",
    "    \n",
    "    :rtype: str\n",
    "    :return: 'negative' | 'neutral' | 'positive'\n",
    "    \"\"\"\n",
    "    compound = vader_output['compound']\n",
    "    \n",
    "    if compound < 0:\n",
    "        return 'negative'\n",
    "    elif compound == 0.0:\n",
    "        return 'neutral'\n",
    "    elif compound > 0.0:\n",
    "        return 'positive'\n",
    "    \n",
    "assert vader_output_to_label( {'neg': 0.0, 'neu': 0.0, 'pos': 1.0, 'compound': 0.0}) == 'neutral'\n",
    "assert vader_output_to_label( {'neg': 0.0, 'neu': 0.0, 'pos': 1.0, 'compound': 0.01}) == 'positive'\n",
    "assert vader_output_to_label( {'neg': 0.0, 'neu': 0.0, 'pos': 1.0, 'compound': -0.01}) == 'negative'"
   ]
  },
  {
   "cell_type": "code",
   "execution_count": 19,
   "id": "5427a1b3",
   "metadata": {
    "id": "5427a1b3"
   },
   "outputs": [],
   "source": [
    "tweets = []\n",
    "all_vader_output = []\n",
    "gold = []\n",
    "\n",
    "for index, row in test_data.iterrows():\n",
    "    the_tweet = row['text']\n",
    "    vader_output = run_vader(the_tweet, lemmatize=True)# run vader\n",
    "    vader_label = vader_output_to_label(vader_output)# convert vader output to category\n",
    "    \n",
    "    tweets.append(the_tweet)\n",
    "    all_vader_output.append(vader_label)\n",
    "    gold.append(row['sentiment'])"
   ]
  },
  {
   "cell_type": "code",
   "execution_count": 20,
   "id": "fc8fdcdb",
   "metadata": {
    "colab": {
     "base_uri": "https://localhost:8080/"
    },
    "id": "fc8fdcdb",
    "outputId": "1574d129-2e2f-430a-8e47-81ba9a32030d"
   },
   "outputs": [
    {
     "name": "stdout",
     "output_type": "stream",
     "text": [
      "              precision    recall  f1-score   support\n",
      "\n",
      "    negative       0.50      0.33      0.40         3\n",
      "     neutral       0.00      0.00      0.00         3\n",
      "    positive       0.50      1.00      0.67         4\n",
      "\n",
      "    accuracy                           0.50        10\n",
      "   macro avg       0.33      0.44      0.36        10\n",
      "weighted avg       0.35      0.50      0.39        10\n",
      "\n"
     ]
    },
    {
     "name": "stderr",
     "output_type": "stream",
     "text": [
      "/usr/local/lib/python3.9/dist-packages/sklearn/metrics/_classification.py:1344: UndefinedMetricWarning: Precision and F-score are ill-defined and being set to 0.0 in labels with no predicted samples. Use `zero_division` parameter to control this behavior.\n",
      "  _warn_prf(average, modifier, msg_start, len(result))\n",
      "/usr/local/lib/python3.9/dist-packages/sklearn/metrics/_classification.py:1344: UndefinedMetricWarning: Precision and F-score are ill-defined and being set to 0.0 in labels with no predicted samples. Use `zero_division` parameter to control this behavior.\n",
      "  _warn_prf(average, modifier, msg_start, len(result))\n",
      "/usr/local/lib/python3.9/dist-packages/sklearn/metrics/_classification.py:1344: UndefinedMetricWarning: Precision and F-score are ill-defined and being set to 0.0 in labels with no predicted samples. Use `zero_division` parameter to control this behavior.\n",
      "  _warn_prf(average, modifier, msg_start, len(result))\n"
     ]
    }
   ],
   "source": [
    "# use scikit-learn's classification report\n",
    "# Qualitative evaluation\n",
    "print(sklearn.metrics.classification_report(gold, all_vader_output))"
   ]
  },
  {
   "cell_type": "code",
   "execution_count": 21,
   "id": "a535f0f3",
   "metadata": {
    "colab": {
     "base_uri": "https://localhost:8080/"
    },
    "id": "a535f0f3",
    "outputId": "68fec5f5-ac52-4e9b-db70-994e891009e2"
   },
   "outputs": [
    {
     "name": "stdout",
     "output_type": "stream",
     "text": [
      "\n",
      "Number of positives misclassified: 0\n",
      "\n"
     ]
    }
   ],
   "source": [
    "#Error analysis\n",
    "# Positives misclasified\n",
    "positives_misclasified_indices = []\n",
    "for i in range(len(gold)):\n",
    "    if gold[i] == \"positive\" and gold[i] != all_vader_output[i]:\n",
    "        positives_misclasified_indices.append(i)\n",
    "        print(\"Sentence {} should be {}. Misclassified as {}.\".format(i, gold[i], all_vader_output[i]))\n",
    "\n",
    "print(\"\\nNumber of positives misclassified: {}\\n\".format(len(positives_misclasified_indices)))\n",
    "\n",
    "for i in positives_misclasified_indices: print(i, tweets[i])"
   ]
  },
  {
   "cell_type": "code",
   "execution_count": 22,
   "id": "a7ff8066",
   "metadata": {
    "colab": {
     "base_uri": "https://localhost:8080/"
    },
    "id": "a7ff8066",
    "outputId": "e031b345-0930-4de6-aca7-6b5a53a188ed"
   },
   "outputs": [
    {
     "name": "stdout",
     "output_type": "stream",
     "text": [
      "Sentence 2 should be negative. Misclassified as positive.\n",
      "Sentence 9 should be negative. Misclassified as positive.\n",
      "\n",
      "Number of negatives misclassified: 2\n",
      "\n",
      "2 This Italian place is really trendy but they have forgotten about the most important part of a restaurant, the food.\n",
      "9 I always have loved English novels, but I just couldn't get into this one.\n"
     ]
    }
   ],
   "source": [
    "# Negatives misclasified\n",
    "positives_misclasified_indices = []\n",
    "for i in range(len(gold)):\n",
    "    if gold[i] == \"negative\" and gold[i] != all_vader_output[i]:\n",
    "        positives_misclasified_indices.append(i)\n",
    "        print(\"Sentence {} should be {}. Misclassified as {}.\".format(i, gold[i], all_vader_output[i]))\n",
    "\n",
    "print(\"\\nNumber of negatives misclassified: {}\\n\".format(len(positives_misclasified_indices)))\n",
    "\n",
    "for i in positives_misclasified_indices: print(i, tweets[i])"
   ]
  },
  {
   "cell_type": "code",
   "execution_count": 23,
   "id": "58098dbb",
   "metadata": {
    "colab": {
     "base_uri": "https://localhost:8080/"
    },
    "id": "58098dbb",
    "outputId": "f6bc9e7f-34a1-44fc-fb92-73d61cc9763e"
   },
   "outputs": [
    {
     "name": "stdout",
     "output_type": "stream",
     "text": [
      "Sentence 4 should be neutral. Misclassified as positive.\n",
      "Sentence 5 should be neutral. Misclassified as positive.\n",
      "Sentence 8 should be neutral. Misclassified as negative.\n",
      "\n",
      "Number of neutrals misclassified: 3\n",
      "\n",
      "4 The story of this movie is focused on Carl Brashear played by Cuba Gooding Jr. who wants to be the first African American deep sea diver in the navy.\n",
      "5 Chris O'Donnell stated that while filming for this movie, he felt like he was in a toy commercial.\n",
      "8 The new movie by Mr. Kruno was shot in New York, but the story takes place in Los Angeles.\n"
     ]
    }
   ],
   "source": [
    "# Neutrals misclasified\n",
    "positives_misclasified_indices = []\n",
    "for i in range(len(gold)):\n",
    "    if gold[i] == \"neutral\" and gold[i] != all_vader_output[i]:\n",
    "        positives_misclasified_indices.append(i)\n",
    "        print(\"Sentence {} should be {}. Misclassified as {}.\".format(i, gold[i], all_vader_output[i]))\n",
    "\n",
    "print(\"\\nNumber of neutrals misclassified: {}\\n\".format(len(positives_misclasified_indices)))\n",
    "\n",
    "for i in positives_misclasified_indices: print(i, tweets[i])"
   ]
  },
  {
   "cell_type": "markdown",
   "id": "3615d3eb",
   "metadata": {
    "id": "3615d3eb"
   },
   "source": [
    "**Sentiment analysis with transformers**"
   ]
  },
  {
   "cell_type": "markdown",
   "id": "df5ef78d",
   "metadata": {},
   "source": [
    "Link to the pre-trained transformer model: https://huggingface.co/Souvikcmsa/BERT_sentiment_analysis"
   ]
  },
  {
   "cell_type": "code",
   "execution_count": 3,
   "id": "dsqoTRcS8PUg",
   "metadata": {
    "colab": {
     "base_uri": "https://localhost:8080/",
     "height": 345
    },
    "id": "dsqoTRcS8PUg",
    "outputId": "a96ff3e7-801e-4785-915f-eb938117101b"
   },
   "outputs": [],
   "source": [
    "!conda install pytorch cpuonly -c pytorch\n",
    "!pip install transformers"
   ]
  },
  {
   "cell_type": "code",
   "execution_count": 25,
   "id": "Yhh0ryMp8Uv_",
   "metadata": {
    "id": "Yhh0ryMp8Uv_"
   },
   "outputs": [],
   "source": [
    "from transformers import pipeline"
   ]
  },
  {
   "cell_type": "code",
   "execution_count": 27,
   "id": "g37vsxvk_A_0",
   "metadata": {
    "id": "g37vsxvk_A_0"
   },
   "outputs": [],
   "source": [
    "classifier = pipeline(\"text-classification\", model = \"Souvikcmsa/BERT_sentiment_analysis\")"
   ]
  },
  {
   "cell_type": "code",
   "execution_count": 4,
   "id": "HTwiQEFqAjqW",
   "metadata": {
    "colab": {
     "base_uri": "https://localhost:8080/"
    },
    "id": "HTwiQEFqAjqW",
    "outputId": "722ace67-d05c-4a6b-beb1-81992f33a497"
   },
   "outputs": [
    {
     "ename": "NameError",
     "evalue": "name 'classifier' is not defined",
     "output_type": "error",
     "traceback": [
      "\u001b[0;31m---------------------------------------------------------------------------\u001b[0m",
      "\u001b[0;31mNameError\u001b[0m                                 Traceback (most recent call last)",
      "\u001b[0;32m/tmp/ipykernel_52811/1408072801.py\u001b[0m in \u001b[0;36m<module>\u001b[0;34m\u001b[0m\n\u001b[1;32m      1\u001b[0m \u001b[0;31m#TEST: DELETE LATER!!!\u001b[0m\u001b[0;34m\u001b[0m\u001b[0;34m\u001b[0m\u001b[0m\n\u001b[0;32m----> 2\u001b[0;31m \u001b[0msmth\u001b[0m \u001b[0;34m=\u001b[0m \u001b[0mclassifier\u001b[0m\u001b[0;34m(\u001b[0m\u001b[0mtest_data\u001b[0m\u001b[0;34m[\u001b[0m\u001b[0;34m'text'\u001b[0m\u001b[0;34m]\u001b[0m\u001b[0;34m[\u001b[0m\u001b[0;36m0\u001b[0m\u001b[0;34m]\u001b[0m\u001b[0;34m)\u001b[0m\u001b[0;34m\u001b[0m\u001b[0;34m\u001b[0m\u001b[0m\n\u001b[0m\u001b[1;32m      3\u001b[0m \u001b[0mprint\u001b[0m\u001b[0;34m(\u001b[0m\u001b[0msmth\u001b[0m\u001b[0;34m[\u001b[0m\u001b[0;36m0\u001b[0m\u001b[0;34m]\u001b[0m\u001b[0;34m[\u001b[0m\u001b[0;34m'label'\u001b[0m\u001b[0;34m]\u001b[0m\u001b[0;34m)\u001b[0m\u001b[0;34m\u001b[0m\u001b[0;34m\u001b[0m\u001b[0m\n",
      "\u001b[0;31mNameError\u001b[0m: name 'classifier' is not defined"
     ]
    }
   ],
   "source": [
    "#TEST: DELETE LATER!!!\n",
    "smth = classifier(test_data['text'][0])\n",
    "print(smth[0]['label'])"
   ]
  },
  {
   "cell_type": "code",
   "execution_count": 44,
   "id": "TP8eq2mq_Tph",
   "metadata": {
    "id": "TP8eq2mq_Tph"
   },
   "outputs": [],
   "source": [
    "s one.tweets = []\n",
    "all_transformer_output = []\n",
    "gold = []\n",
    "\n",
    "for index, row in test_data.iterrows():\n",
    "    the_tweet = row['text']\n",
    "    transformer_output_label = classifier(the_tweet)[0]['label']# run transformer\n",
    "    \n",
    "    tweets.append(the_tweet)\n",
    "    all_transformer_output.append(transformer_output_label)\n",
    "    gold.append(row['sentiment'])"
   ]
  },
  {
   "cell_type": "code",
   "execution_count": 45,
   "id": "Byo3UgL0CAM0",
   "metadata": {
    "colab": {
     "base_uri": "https://localhost:8080/"
    },
    "id": "Byo3UgL0CAM0",
    "outputId": "f1e2dc11-928f-4383-f824-cd96f5528223"
   },
   "outputs": [
    {
     "name": "stdout",
     "output_type": "stream",
     "text": [
      "              precision    recall  f1-score   support\n",
      "\n",
      "    negative       1.00      0.67      0.80         3\n",
      "     neutral       1.00      1.00      1.00         3\n",
      "    positive       0.80      1.00      0.89         4\n",
      "\n",
      "    accuracy                           0.90        10\n",
      "   macro avg       0.93      0.89      0.90        10\n",
      "weighted avg       0.92      0.90      0.90        10\n",
      "\n"
     ]
    }
   ],
   "source": [
    "# use scikit-learn's classification report\n",
    "# Qualitative evaluation\n",
    "print(sklearn.metrics.classification_report(gold, all_transformer_output))"
   ]
  },
  {
   "cell_type": "code",
   "execution_count": 49,
   "id": "4iRYwT8TCUww",
   "metadata": {
    "colab": {
     "base_uri": "https://localhost:8080/"
    },
    "id": "4iRYwT8TCUww",
    "outputId": "f654ee5e-7136-49fb-db45-53e058e6231c"
   },
   "outputs": [
    {
     "name": "stdout",
     "output_type": "stream",
     "text": [
      "\n",
      "Number of positives misclassified: 0\n",
      "\n"
     ]
    }
   ],
   "source": [
    "#Error analysis\n",
    "# Positives misclasified\n",
    "positives_misclasified_indices = []\n",
    "for i in range(len(gold)):\n",
    "    if gold[i] == \"positive\" and gold[i] != all_transformer_output[i]:\n",
    "        positives_misclasified_indices.append(i)\n",
    "        print(\"Sentence {} should be {}. Misclassified as {}.\".format(i, gold[i], all_transformer_output[i]))\n",
    "\n",
    "print(\"\\nNumber of positives misclassified: {}\\n\".format(len(positives_misclasified_indices)))\n",
    "\n",
    "for i in positives_misclasified_indices: print(i, tweets[i])"
   ]
  },
  {
   "cell_type": "code",
   "execution_count": 50,
   "id": "hXcK07XyCepo",
   "metadata": {
    "colab": {
     "base_uri": "https://localhost:8080/"
    },
    "id": "hXcK07XyCepo",
    "outputId": "91fa5fcc-3b92-482f-d7e3-5fb50dd16a87"
   },
   "outputs": [
    {
     "name": "stdout",
     "output_type": "stream",
     "text": [
      "Sentence 9 should be negative. Misclassified as positive.\n",
      "\n",
      "Number of negatives misclassified: 1\n",
      "\n",
      "9 I always have loved English novels, but I just couldn't get into this one.\n"
     ]
    }
   ],
   "source": [
    "# Negatives misclasified\n",
    "positives_misclasified_indices = []\n",
    "for i in range(len(gold)):\n",
    "    if gold[i] == \"negative\" and gold[i] != all_transformer_output[i]:\n",
    "        positives_misclasified_indices.append(i)\n",
    "        print(\"Sentence {} should be {}. Misclassified as {}.\".format(i, gold[i], all_transformer_output[i]))\n",
    "\n",
    "print(\"\\nNumber of negatives misclassified: {}\\n\".format(len(positives_misclasified_indices)))\n",
    "\n",
    "for i in positives_misclasified_indices: print(i, tweets[i])"
   ]
  },
  {
   "cell_type": "code",
   "execution_count": 52,
   "id": "EjHaZWk8ChWF",
   "metadata": {
    "colab": {
     "base_uri": "https://localhost:8080/"
    },
    "id": "EjHaZWk8ChWF",
    "outputId": "0cedfbab-e6b2-44c9-d98a-c18772264c00"
   },
   "outputs": [
    {
     "name": "stdout",
     "output_type": "stream",
     "text": [
      "\n",
      "Number of neutrals misclassified: 0\n",
      "\n"
     ]
    }
   ],
   "source": [
    "# Neutrals misclasified\n",
    "positives_misclasified_indices = []\n",
    "for i in range(len(gold)):\n",
    "    if gold[i] == \"neutral\" and gold[i] != all_transformer_output[i]:\n",
    "        positives_misclasified_indices.append(i)\n",
    "        print(\"Sentence {} should be {}. Misclassified as {}.\".format(i, gold[i], all_transformer_output[i]))\n",
    "\n",
    "print(\"\\nNumber of neutrals misclassified: {}\\n\".format(len(positives_misclasified_indices)))\n",
    "\n",
    "for i in positives_misclasified_indices: print(i, tweets[i])"
   ]
  }
 ],
 "metadata": {
  "accelerator": "GPU",
  "colab": {
   "provenance": []
  },
  "gpuClass": "standard",
  "kernelspec": {
   "display_name": "Python 3 (ipykernel)",
   "language": "python",
   "name": "python3"
  },
  "language_info": {
   "codemirror_mode": {
    "name": "ipython",
    "version": 3
   },
   "file_extension": ".py",
   "mimetype": "text/x-python",
   "name": "python",
   "nbconvert_exporter": "python",
   "pygments_lexer": "ipython3",
   "version": "3.9.13"
  }
 },
 "nbformat": 4,
 "nbformat_minor": 5
}
