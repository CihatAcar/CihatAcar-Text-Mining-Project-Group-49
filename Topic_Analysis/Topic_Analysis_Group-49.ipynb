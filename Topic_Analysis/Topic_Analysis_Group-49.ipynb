{
 "cells": [
  {
   "cell_type": "markdown",
   "metadata": {
    "id": "utVbfcod9E4z"
   },
   "source": [
    "# TOPIC ANALYSIS\n"
   ]
  },
  {
   "cell_type": "markdown",
   "metadata": {
    "id": "-ahtO1ap9E42"
   },
   "source": [
    "## Import Packages"
   ]
  },
  {
   "cell_type": "code",
   "execution_count": 1,
   "metadata": {
    "colab": {
     "base_uri": "https://localhost:8080/"
    },
    "id": "L6meAuH_9E43",
    "outputId": "ec229d02-6f95-4c2d-efe1-a39edd2c2ebb"
   },
   "outputs": [
    {
     "name": "stdout",
     "output_type": "stream",
     "text": [
      "Requirement already satisfied: simpletransformers in c:\\users\\angel\\anaconda3\\lib\\site-packages (0.63.9)\n",
      "Requirement already satisfied: transformers>=4.6.0 in c:\\users\\angel\\anaconda3\\lib\\site-packages (from simpletransformers) (4.27.4)\n",
      "Requirement already satisfied: scikit-learn in c:\\users\\angel\\anaconda3\\lib\\site-packages (from simpletransformers) (0.24.1)\n",
      "Requirement already satisfied: pandas in c:\\users\\angel\\anaconda3\\lib\\site-packages (from simpletransformers) (1.2.4)\n",
      "Requirement already satisfied: seqeval in c:\\users\\angel\\anaconda3\\lib\\site-packages (from simpletransformers) (1.2.2)\n",
      "Requirement already satisfied: regex in c:\\users\\angel\\anaconda3\\lib\\site-packages (from simpletransformers) (2021.4.4)\n",
      "Requirement already satisfied: tokenizers in c:\\users\\angel\\anaconda3\\lib\\site-packages (from simpletransformers) (0.13.2)\n",
      "Requirement already satisfied: numpy in c:\\users\\angel\\anaconda3\\lib\\site-packages (from simpletransformers) (1.20.1)\n",
      "Requirement already satisfied: requests in c:\\users\\angel\\anaconda3\\lib\\site-packages (from simpletransformers) (2.25.1)\n",
      "Requirement already satisfied: wandb>=0.10.32 in c:\\users\\angel\\anaconda3\\lib\\site-packages (from simpletransformers) (0.14.0)\n",
      "Requirement already satisfied: datasets in c:\\users\\angel\\anaconda3\\lib\\site-packages (from simpletransformers) (2.11.0)\n",
      "Requirement already satisfied: scipy in c:\\users\\angel\\anaconda3\\lib\\site-packages (from simpletransformers) (1.6.2)\n",
      "Requirement already satisfied: streamlit in c:\\users\\angel\\anaconda3\\lib\\site-packages (from simpletransformers) (1.20.0)\n",
      "Requirement already satisfied: sentencepiece in c:\\users\\angel\\anaconda3\\lib\\site-packages (from simpletransformers) (0.1.97)\n",
      "Requirement already satisfied: tensorboard in c:\\users\\angel\\anaconda3\\lib\\site-packages (from simpletransformers) (2.12.0)\n",
      "Requirement already satisfied: tqdm>=4.47.0 in c:\\users\\angel\\anaconda3\\lib\\site-packages (from simpletransformers) (4.65.0)\n",
      "Requirement already satisfied: colorama in c:\\users\\angel\\anaconda3\\lib\\site-packages (from tqdm>=4.47.0->simpletransformers) (0.4.4)\n",
      "Requirement already satisfied: pyyaml>=5.1 in c:\\users\\angel\\anaconda3\\lib\\site-packages (from transformers>=4.6.0->simpletransformers) (5.4.1)\n",
      "Requirement already satisfied: huggingface-hub<1.0,>=0.11.0 in c:\\users\\angel\\anaconda3\\lib\\site-packages (from transformers>=4.6.0->simpletransformers) (0.13.3)\n",
      "Requirement already satisfied: filelock in c:\\users\\angel\\anaconda3\\lib\\site-packages (from transformers>=4.6.0->simpletransformers) (3.0.12)\n",
      "Requirement already satisfied: packaging>=20.0 in c:\\users\\angel\\anaconda3\\lib\\site-packages (from transformers>=4.6.0->simpletransformers) (20.9)\n",
      "Requirement already satisfied: typing-extensions>=3.7.4.3 in c:\\users\\angel\\anaconda3\\lib\\site-packages (from huggingface-hub<1.0,>=0.11.0->transformers>=4.6.0->simpletransformers) (4.5.0)\n",
      "Requirement already satisfied: pyparsing>=2.0.2 in c:\\users\\angel\\anaconda3\\lib\\site-packages (from packaging>=20.0->transformers>=4.6.0->simpletransformers) (2.4.7)\n",
      "Requirement already satisfied: setuptools in c:\\users\\angel\\anaconda3\\lib\\site-packages (from wandb>=0.10.32->simpletransformers) (52.0.0.post20210125)\n",
      "Requirement already satisfied: docker-pycreds>=0.4.0 in c:\\users\\angel\\anaconda3\\lib\\site-packages (from wandb>=0.10.32->simpletransformers) (0.4.0)\n",
      "Requirement already satisfied: GitPython!=3.1.29,>=1.0.0 in c:\\users\\angel\\anaconda3\\lib\\site-packages (from wandb>=0.10.32->simpletransformers) (3.1.31)\n",
      "Requirement already satisfied: sentry-sdk>=1.0.0 in c:\\users\\angel\\anaconda3\\lib\\site-packages (from wandb>=0.10.32->simpletransformers) (1.18.0)\n",
      "Requirement already satisfied: setproctitle in c:\\users\\angel\\anaconda3\\lib\\site-packages (from wandb>=0.10.32->simpletransformers) (1.3.2)\n",
      "Requirement already satisfied: psutil>=5.0.0 in c:\\users\\angel\\anaconda3\\lib\\site-packages (from wandb>=0.10.32->simpletransformers) (5.8.0)\n",
      "Requirement already satisfied: protobuf!=4.21.0,<5,>=3.19.0 in c:\\users\\angel\\anaconda3\\lib\\site-packages (from wandb>=0.10.32->simpletransformers) (3.20.3)\n",
      "Requirement already satisfied: pathtools in c:\\users\\angel\\anaconda3\\lib\\site-packages (from wandb>=0.10.32->simpletransformers) (0.1.2)\n",
      "Requirement already satisfied: appdirs>=1.4.3 in c:\\users\\angel\\anaconda3\\lib\\site-packages (from wandb>=0.10.32->simpletransformers) (1.4.4)\n",
      "Requirement already satisfied: Click!=8.0.0,>=7.0 in c:\\users\\angel\\anaconda3\\lib\\site-packages (from wandb>=0.10.32->simpletransformers) (7.1.2)\n",
      "Requirement already satisfied: six>=1.4.0 in c:\\users\\angel\\anaconda3\\lib\\site-packages (from docker-pycreds>=0.4.0->wandb>=0.10.32->simpletransformers) (1.15.0)\n",
      "Requirement already satisfied: gitdb<5,>=4.0.1 in c:\\users\\angel\\anaconda3\\lib\\site-packages (from GitPython!=3.1.29,>=1.0.0->wandb>=0.10.32->simpletransformers) (4.0.10)\n",
      "Requirement already satisfied: smmap<6,>=3.0.1 in c:\\users\\angel\\anaconda3\\lib\\site-packages (from gitdb<5,>=4.0.1->GitPython!=3.1.29,>=1.0.0->wandb>=0.10.32->simpletransformers) (5.0.0)\n",
      "Requirement already satisfied: idna<3,>=2.5 in c:\\users\\angel\\anaconda3\\lib\\site-packages (from requests->simpletransformers) (2.10)\n",
      "Requirement already satisfied: urllib3<1.27,>=1.21.1 in c:\\users\\angel\\anaconda3\\lib\\site-packages (from requests->simpletransformers) (1.26.15)\n",
      "Requirement already satisfied: chardet<5,>=3.0.2 in c:\\users\\angel\\anaconda3\\lib\\site-packages (from requests->simpletransformers) (4.0.0)\n",
      "Requirement already satisfied: certifi>=2017.4.17 in c:\\users\\angel\\anaconda3\\lib\\site-packages (from requests->simpletransformers) (2020.12.5)\n",
      "Requirement already satisfied: responses<0.19 in c:\\users\\angel\\anaconda3\\lib\\site-packages (from datasets->simpletransformers) (0.18.0)\n",
      "Requirement already satisfied: multiprocess in c:\\users\\angel\\anaconda3\\lib\\site-packages (from datasets->simpletransformers) (0.70.14)\n",
      "Requirement already satisfied: fsspec[http]>=2021.11.1 in c:\\users\\angel\\anaconda3\\lib\\site-packages (from datasets->simpletransformers) (2023.3.0)\n",
      "Requirement already satisfied: dill<0.3.7,>=0.3.0 in c:\\users\\angel\\anaconda3\\lib\\site-packages (from datasets->simpletransformers) (0.3.6)\n",
      "Requirement already satisfied: pyarrow>=8.0.0 in c:\\users\\angel\\anaconda3\\lib\\site-packages (from datasets->simpletransformers) (11.0.0)\n",
      "Requirement already satisfied: xxhash in c:\\users\\angel\\anaconda3\\lib\\site-packages (from datasets->simpletransformers) (3.2.0)\n",
      "Requirement already satisfied: aiohttp in c:\\users\\angel\\anaconda3\\lib\\site-packages (from datasets->simpletransformers) (3.8.4)\n",
      "Requirement already satisfied: frozenlist>=1.1.1 in c:\\users\\angel\\anaconda3\\lib\\site-packages (from aiohttp->datasets->simpletransformers) (1.3.3)\n",
      "Requirement already satisfied: charset-normalizer<4.0,>=2.0 in c:\\users\\angel\\anaconda3\\lib\\site-packages (from aiohttp->datasets->simpletransformers) (3.1.0)\n",
      "Requirement already satisfied: aiosignal>=1.1.2 in c:\\users\\angel\\anaconda3\\lib\\site-packages (from aiohttp->datasets->simpletransformers) (1.3.1)\n",
      "Requirement already satisfied: multidict<7.0,>=4.5 in c:\\users\\angel\\anaconda3\\lib\\site-packages (from aiohttp->datasets->simpletransformers) (6.0.4)\n",
      "Requirement already satisfied: async-timeout<5.0,>=4.0.0a3 in c:\\users\\angel\\anaconda3\\lib\\site-packages (from aiohttp->datasets->simpletransformers) (4.0.2)\n",
      "Requirement already satisfied: yarl<2.0,>=1.0 in c:\\users\\angel\\anaconda3\\lib\\site-packages (from aiohttp->datasets->simpletransformers) (1.8.2)\n",
      "Requirement already satisfied: attrs>=17.3.0 in c:\\users\\angel\\anaconda3\\lib\\site-packages (from aiohttp->datasets->simpletransformers) (20.3.0)\n",
      "Requirement already satisfied: pytz>=2017.3 in c:\\users\\angel\\anaconda3\\lib\\site-packages (from pandas->simpletransformers) (2021.1)\n",
      "Requirement already satisfied: python-dateutil>=2.7.3 in c:\\users\\angel\\anaconda3\\lib\\site-packages (from pandas->simpletransformers) (2.8.1)\n",
      "Requirement already satisfied: joblib>=0.11 in c:\\users\\angel\\anaconda3\\lib\\site-packages (from scikit-learn->simpletransformers) (1.0.1)\n",
      "Requirement already satisfied: threadpoolctl>=2.0.0 in c:\\users\\angel\\anaconda3\\lib\\site-packages (from scikit-learn->simpletransformers) (2.1.0)\n",
      "Requirement already satisfied: toml in c:\\users\\angel\\anaconda3\\lib\\site-packages (from streamlit->simpletransformers) (0.10.2)\n",
      "Requirement already satisfied: importlib-metadata>=1.4 in c:\\users\\angel\\anaconda3\\lib\\site-packages (from streamlit->simpletransformers) (6.1.0)\n",
      "Requirement already satisfied: blinker>=1.0.0 in c:\\users\\angel\\anaconda3\\lib\\site-packages (from streamlit->simpletransformers) (1.5)\n",
      "Requirement already satisfied: altair<5,>=3.2.0 in c:\\users\\angel\\anaconda3\\lib\\site-packages (from streamlit->simpletransformers) (4.2.2)\n",
      "Requirement already satisfied: rich>=10.11.0 in c:\\users\\angel\\anaconda3\\lib\\site-packages (from streamlit->simpletransformers) (13.3.3)\n",
      "Requirement already satisfied: tzlocal>=1.1 in c:\\users\\angel\\anaconda3\\lib\\site-packages (from streamlit->simpletransformers) (4.3)\n",
      "Requirement already satisfied: cachetools>=4.0 in c:\\users\\angel\\anaconda3\\lib\\site-packages (from streamlit->simpletransformers) (5.3.0)\n",
      "Requirement already satisfied: pydeck>=0.1.dev5 in c:\\users\\angel\\anaconda3\\lib\\site-packages (from streamlit->simpletransformers) (0.8.0)\n",
      "Requirement already satisfied: validators>=0.2 in c:\\users\\angel\\anaconda3\\lib\\site-packages (from streamlit->simpletransformers) (0.20.0)\n",
      "Requirement already satisfied: pympler>=0.9 in c:\\users\\angel\\anaconda3\\lib\\site-packages (from streamlit->simpletransformers) (1.0.1)\n",
      "Requirement already satisfied: semver in c:\\users\\angel\\anaconda3\\lib\\site-packages (from streamlit->simpletransformers) (2.13.0)\n",
      "Requirement already satisfied: tornado>=6.0.3 in c:\\users\\angel\\anaconda3\\lib\\site-packages (from streamlit->simpletransformers) (6.1)\n",
      "Requirement already satisfied: watchdog in c:\\users\\angel\\anaconda3\\lib\\site-packages (from streamlit->simpletransformers) (1.0.2)\n",
      "Requirement already satisfied: pillow>=6.2.0 in c:\\users\\angel\\anaconda3\\lib\\site-packages (from streamlit->simpletransformers) (8.2.0)\n",
      "Requirement already satisfied: jsonschema>=3.0 in c:\\users\\angel\\anaconda3\\lib\\site-packages (from altair<5,>=3.2.0->streamlit->simpletransformers) (3.2.0)\n",
      "Requirement already satisfied: jinja2 in c:\\users\\angel\\anaconda3\\lib\\site-packages (from altair<5,>=3.2.0->streamlit->simpletransformers) (2.11.3)\n",
      "Requirement already satisfied: toolz in c:\\users\\angel\\anaconda3\\lib\\site-packages (from altair<5,>=3.2.0->streamlit->simpletransformers) (0.11.1)\n",
      "Requirement already satisfied: entrypoints in c:\\users\\angel\\anaconda3\\lib\\site-packages (from altair<5,>=3.2.0->streamlit->simpletransformers) (0.3)\n",
      "Requirement already satisfied: zipp>=0.5 in c:\\users\\angel\\anaconda3\\lib\\site-packages (from importlib-metadata>=1.4->streamlit->simpletransformers) (3.4.1)\n",
      "Requirement already satisfied: pyrsistent>=0.14.0 in c:\\users\\angel\\anaconda3\\lib\\site-packages (from jsonschema>=3.0->altair<5,>=3.2.0->streamlit->simpletransformers) (0.17.3)\n",
      "Requirement already satisfied: MarkupSafe>=0.23 in c:\\users\\angel\\anaconda3\\lib\\site-packages (from jinja2->altair<5,>=3.2.0->streamlit->simpletransformers) (1.1.1)\n",
      "Requirement already satisfied: pygments<3.0.0,>=2.13.0 in c:\\users\\angel\\anaconda3\\lib\\site-packages (from rich>=10.11.0->streamlit->simpletransformers) (2.14.0)\n",
      "Requirement already satisfied: markdown-it-py<3.0.0,>=2.2.0 in c:\\users\\angel\\anaconda3\\lib\\site-packages (from rich>=10.11.0->streamlit->simpletransformers) (2.2.0)\n",
      "Requirement already satisfied: mdurl~=0.1 in c:\\users\\angel\\anaconda3\\lib\\site-packages (from markdown-it-py<3.0.0,>=2.2.0->rich>=10.11.0->streamlit->simpletransformers) (0.1.2)\n",
      "Requirement already satisfied: pytz-deprecation-shim in c:\\users\\angel\\anaconda3\\lib\\site-packages (from tzlocal>=1.1->streamlit->simpletransformers) (0.1.0.post0)\n",
      "Requirement already satisfied: tzdata in c:\\users\\angel\\anaconda3\\lib\\site-packages (from tzlocal>=1.1->streamlit->simpletransformers) (2023.3)\n",
      "Requirement already satisfied: backports.zoneinfo in c:\\users\\angel\\anaconda3\\lib\\site-packages (from tzlocal>=1.1->streamlit->simpletransformers) (0.2.1)\n",
      "Requirement already satisfied: decorator>=3.4.0 in c:\\users\\angel\\anaconda3\\lib\\site-packages (from validators>=0.2->streamlit->simpletransformers) (5.0.6)\n",
      "Requirement already satisfied: google-auth-oauthlib<0.5,>=0.4.1 in c:\\users\\angel\\anaconda3\\lib\\site-packages (from tensorboard->simpletransformers) (0.4.6)\n"
     ]
    },
    {
     "name": "stdout",
     "output_type": "stream",
     "text": [
      "Requirement already satisfied: absl-py>=0.4 in c:\\users\\angel\\anaconda3\\lib\\site-packages (from tensorboard->simpletransformers) (1.4.0)\n",
      "Requirement already satisfied: google-auth<3,>=1.6.3 in c:\\users\\angel\\anaconda3\\lib\\site-packages (from tensorboard->simpletransformers) (2.17.0)\n",
      "Requirement already satisfied: tensorboard-data-server<0.8.0,>=0.7.0 in c:\\users\\angel\\anaconda3\\lib\\site-packages (from tensorboard->simpletransformers) (0.7.0)\n",
      "Requirement already satisfied: tensorboard-plugin-wit>=1.6.0 in c:\\users\\angel\\anaconda3\\lib\\site-packages (from tensorboard->simpletransformers) (1.8.1)\n",
      "Requirement already satisfied: wheel>=0.26 in c:\\users\\angel\\anaconda3\\lib\\site-packages (from tensorboard->simpletransformers) (0.36.2)\n",
      "Requirement already satisfied: grpcio>=1.48.2 in c:\\users\\angel\\anaconda3\\lib\\site-packages (from tensorboard->simpletransformers) (1.53.0)\n",
      "Requirement already satisfied: werkzeug>=1.0.1 in c:\\users\\angel\\anaconda3\\lib\\site-packages (from tensorboard->simpletransformers) (1.0.1)\n",
      "Requirement already satisfied: markdown>=2.6.8 in c:\\users\\angel\\anaconda3\\lib\\site-packages (from tensorboard->simpletransformers) (3.4.3)\n",
      "Requirement already satisfied: rsa<5,>=3.1.4 in c:\\users\\angel\\anaconda3\\lib\\site-packages (from google-auth<3,>=1.6.3->tensorboard->simpletransformers) (4.9)\n",
      "Requirement already satisfied: pyasn1-modules>=0.2.1 in c:\\users\\angel\\anaconda3\\lib\\site-packages (from google-auth<3,>=1.6.3->tensorboard->simpletransformers) (0.2.8)\n",
      "Requirement already satisfied: requests-oauthlib>=0.7.0 in c:\\users\\angel\\anaconda3\\lib\\site-packages (from google-auth-oauthlib<0.5,>=0.4.1->tensorboard->simpletransformers) (1.3.1)\n",
      "Requirement already satisfied: pyasn1<0.5.0,>=0.4.6 in c:\\users\\angel\\anaconda3\\lib\\site-packages (from pyasn1-modules>=0.2.1->google-auth<3,>=1.6.3->tensorboard->simpletransformers) (0.4.8)\n",
      "Requirement already satisfied: oauthlib>=3.0.0 in c:\\users\\angel\\anaconda3\\lib\\site-packages (from requests-oauthlib>=0.7.0->google-auth-oauthlib<0.5,>=0.4.1->tensorboard->simpletransformers) (3.2.2)\n"
     ]
    }
   ],
   "source": [
    "#!pip install simpletransformers"
   ]
  },
  {
   "cell_type": "code",
   "execution_count": 2,
   "metadata": {},
   "outputs": [
    {
     "name": "stdout",
     "output_type": "stream",
     "text": [
      "Requirement already satisfied: torch in c:\\users\\angel\\anaconda3\\lib\\site-packages (2.0.0)\n",
      "Requirement already satisfied: filelock in c:\\users\\angel\\anaconda3\\lib\\site-packages (from torch) (3.0.12)\n",
      "Requirement already satisfied: networkx in c:\\users\\angel\\anaconda3\\lib\\site-packages (from torch) (2.5)\n",
      "Requirement already satisfied: sympy in c:\\users\\angel\\anaconda3\\lib\\site-packages (from torch) (1.8)\n",
      "Requirement already satisfied: jinja2 in c:\\users\\angel\\anaconda3\\lib\\site-packages (from torch) (2.11.3)\n",
      "Requirement already satisfied: typing-extensions in c:\\users\\angel\\anaconda3\\lib\\site-packages (from torch) (4.5.0)\n",
      "Requirement already satisfied: MarkupSafe>=0.23 in c:\\users\\angel\\anaconda3\\lib\\site-packages (from jinja2->torch) (1.1.1)\n",
      "Requirement already satisfied: decorator>=4.3.0 in c:\\users\\angel\\anaconda3\\lib\\site-packages (from networkx->torch) (5.0.6)\n",
      "Requirement already satisfied: mpmath>=0.19 in c:\\users\\angel\\anaconda3\\lib\\site-packages (from sympy->torch) (1.2.1)\n",
      "Note: you may need to restart the kernel to use updated packages.\n"
     ]
    }
   ],
   "source": [
    "#pip install torch"
   ]
  },
  {
   "cell_type": "code",
   "execution_count": 3,
   "metadata": {
    "id": "QEfexqmR9E44"
   },
   "outputs": [],
   "source": [
    "import pandas as pd\n",
    "import numpy as np\n",
    "import sklearn\n",
    "from sklearn.metrics import classification_report\n",
    "from simpletransformers.classification import ClassificationModel, ClassificationArgs\n",
    "import matplotlib.pyplot as plt \n",
    "import seaborn as sn "
   ]
  },
  {
   "cell_type": "markdown",
   "metadata": {
    "id": "TLRk7eNf-awP"
   },
   "source": [
    "## Data Exploration"
   ]
  },
  {
   "cell_type": "code",
   "execution_count": 4,
   "metadata": {
    "colab": {
     "base_uri": "https://localhost:8080/"
    },
    "id": "_JfX3QVr_B30",
    "outputId": "bc20ff54-215d-4be4-952a-d4896becb2c6"
   },
   "outputs": [],
   "source": [
    "#from google.colab import drive\n",
    "#drive.mount('/content/drive')"
   ]
  },
  {
   "cell_type": "code",
   "execution_count": 5,
   "metadata": {
    "id": "lg11iiGl9E45"
   },
   "outputs": [],
   "source": [
    "test = pd.read_csv('sentiment-topic-final-test.tsv', sep = '\\t')"
   ]
  },
  {
   "cell_type": "code",
   "execution_count": 24,
   "metadata": {},
   "outputs": [
    {
     "data": {
      "text/plain": [
       "['movie',\n",
       " 'restaurant',\n",
       " 'restaurant',\n",
       " 'book',\n",
       " 'movie',\n",
       " 'movie',\n",
       " 'restaurant',\n",
       " 'movie',\n",
       " 'movie',\n",
       " 'book']"
      ]
     },
     "execution_count": 24,
     "metadata": {},
     "output_type": "execute_result"
    }
   ],
   "source": [
    "test['topic'].tolist()"
   ]
  },
  {
   "cell_type": "code",
   "execution_count": 42,
   "metadata": {},
   "outputs": [
    {
     "name": "stdout",
     "output_type": "stream",
     "text": [
      "<class 'pandas.core.frame.DataFrame'>\n",
      "RangeIndex: 10 entries, 0 to 9\n",
      "Data columns (total 5 columns):\n",
      " #   Column       Non-Null Count  Dtype \n",
      "---  ------       --------------  ----- \n",
      " 0   sentence id  10 non-null     int64 \n",
      " 1   text         10 non-null     object\n",
      " 2   sentiment    10 non-null     object\n",
      " 3   labels       10 non-null     int64 \n",
      " 4   predicted    10 non-null     int64 \n",
      "dtypes: int64(3), object(2)\n",
      "memory usage: 528.0+ bytes\n"
     ]
    }
   ],
   "source": [
    "test.info()"
   ]
  },
  {
   "cell_type": "code",
   "execution_count": 36,
   "metadata": {},
   "outputs": [],
   "source": [
    "test.rename(columns = {'topic':'labels'}, inplace = True) #making sure test data matches training data"
   ]
  },
  {
   "cell_type": "code",
   "execution_count": 37,
   "metadata": {},
   "outputs": [],
   "source": [
    "test['labels'].replace(['movie', 'restaurant', 'book'],\n",
    "                        [0, 1, 2], inplace=True)"
   ]
  },
  {
   "cell_type": "code",
   "execution_count": 7,
   "metadata": {
    "id": "O78T2Hn49E45"
   },
   "outputs": [],
   "source": [
    "from sklearn.datasets import fetch_20newsgroups\n",
    "\n",
    "# load only a sub-selection of the categories (4 in our case)\n",
    "categories = ['rec.autos', 'rec.motorcycles', 'talk.politics.mideast', 'comp.windows.x'] \n",
    "\n",
    "# remove the headers, footers and quotes (to avoid overfitting)\n",
    "train = fetch_20newsgroups(subset='train', remove=('headers', 'footers', 'quotes'), categories=categories, random_state=42)"
   ]
  },
  {
   "cell_type": "code",
   "execution_count": 8,
   "metadata": {
    "id": "sU5VQ5Ei9E45"
   },
   "outputs": [],
   "source": [
    "train = pd.DataFrame({'text': train.data, 'labels': train.target})"
   ]
  },
  {
   "cell_type": "code",
   "execution_count": 9,
   "metadata": {
    "id": "XnuhdBKzTb6l"
   },
   "outputs": [],
   "source": [
    "from sklearn.model_selection import train_test_split\n",
    "\n",
    "train, dev = train_test_split(train, test_size=0.1, random_state=0, \n",
    "                               stratify=train[['labels']])"
   ]
  },
  {
   "cell_type": "code",
   "execution_count": 10,
   "metadata": {
    "colab": {
     "base_uri": "https://localhost:8080/",
     "height": 206
    },
    "id": "ND2_x6py9E46",
    "outputId": "9c20ae5b-888a-4167-959e-ab5765f0bbd0"
   },
   "outputs": [
    {
     "data": {
      "text/html": [
       "<div>\n",
       "<style scoped>\n",
       "    .dataframe tbody tr th:only-of-type {\n",
       "        vertical-align: middle;\n",
       "    }\n",
       "\n",
       "    .dataframe tbody tr th {\n",
       "        vertical-align: top;\n",
       "    }\n",
       "\n",
       "    .dataframe thead th {\n",
       "        text-align: right;\n",
       "    }\n",
       "</style>\n",
       "<table border=\"1\" class=\"dataframe\">\n",
       "  <thead>\n",
       "    <tr style=\"text-align: right;\">\n",
       "      <th></th>\n",
       "      <th>text</th>\n",
       "      <th>labels</th>\n",
       "    </tr>\n",
       "  </thead>\n",
       "  <tbody>\n",
       "    <tr>\n",
       "      <th>1930</th>\n",
       "      <td>\\nSuggest McQuires #1 plastic polish.  It will...</td>\n",
       "      <td>2</td>\n",
       "    </tr>\n",
       "    <tr>\n",
       "      <th>2140</th>\n",
       "      <td>\\n\\t\\t\\t     ^^^^^^^^^^^^^^^^^^^^^^^^^^^\\nBeca...</td>\n",
       "      <td>2</td>\n",
       "    </tr>\n",
       "    <tr>\n",
       "      <th>739</th>\n",
       "      <td>While I cannot answer questions about running ...</td>\n",
       "      <td>0</td>\n",
       "    </tr>\n",
       "    <tr>\n",
       "      <th>1039</th>\n",
       "      <td>If I have one thing to say about \"No Fault\" it...</td>\n",
       "      <td>2</td>\n",
       "    </tr>\n",
       "    <tr>\n",
       "      <th>1161</th>\n",
       "      <td>Will there be any support for round or circula...</td>\n",
       "      <td>0</td>\n",
       "    </tr>\n",
       "  </tbody>\n",
       "</table>\n",
       "</div>"
      ],
      "text/plain": [
       "                                                   text  labels\n",
       "1930  \\nSuggest McQuires #1 plastic polish.  It will...       2\n",
       "2140  \\n\\t\\t\\t     ^^^^^^^^^^^^^^^^^^^^^^^^^^^\\nBeca...       2\n",
       "739   While I cannot answer questions about running ...       0\n",
       "1039  If I have one thing to say about \"No Fault\" it...       2\n",
       "1161  Will there be any support for round or circula...       0"
      ]
     },
     "execution_count": 10,
     "metadata": {},
     "output_type": "execute_result"
    }
   ],
   "source": [
    "train.head()"
   ]
  },
  {
   "cell_type": "code",
   "execution_count": 41,
   "metadata": {
    "id": "PovPDUPy9E46"
   },
   "outputs": [
    {
     "name": "stdout",
     "output_type": "stream",
     "text": [
      "<class 'pandas.core.frame.DataFrame'>\n",
      "Int64Index: 2114 entries, 1930 to 1350\n",
      "Data columns (total 2 columns):\n",
      " #   Column  Non-Null Count  Dtype \n",
      "---  ------  --------------  ----- \n",
      " 0   text    2114 non-null   object\n",
      " 1   labels  2114 non-null   int64 \n",
      "dtypes: int64(1), object(1)\n",
      "memory usage: 49.5+ KB\n"
     ]
    }
   ],
   "source": [
    "train.info()"
   ]
  },
  {
   "cell_type": "markdown",
   "metadata": {},
   "source": [
    "## Creating  and Running Model"
   ]
  },
  {
   "cell_type": "code",
   "execution_count": 11,
   "metadata": {
    "id": "O23LAeUo-poi"
   },
   "outputs": [],
   "source": [
    "# Model configuration # https://simpletransformers.ai/docs/usage/#configuring-a-simple-transformers-model \n",
    "model_args = ClassificationArgs()\n",
    "\n",
    "model_args.overwrite_output_dir=True # overwrite existing saved models in the same directory\n",
    "model_args.evaluate_during_training=True # to perform evaluation while training the model\n",
    "# (eval data should be passed to the training method)\n",
    "\n",
    "model_args.num_train_epochs=10 # number of epochs\n",
    "model_args.train_batch_size=32 # batch size\n",
    "model_args.learning_rate=4e-6 # learning rate\n",
    "model_args.max_seq_length=256 # maximum sequence length\n",
    "# Note! Increasing max_seq_len may provide better performance, but training time will increase. \n",
    "# For educational purposes, we set max_seq_len to 256.\n",
    "\n",
    "# Early stopping to combat overfitting: https://simpletransformers.ai/docs/tips-and-tricks/#using-early-stopping\n",
    "model_args.use_early_stopping=True\n",
    "model_args.early_stopping_delta=0.01 # \"The improvement over best_eval_loss necessary to count as a better checkpoint\"\n",
    "model_args.early_stopping_metric='eval_loss'\n",
    "model_args.early_stopping_metric_minimize=True\n",
    "model_args.early_stopping_patience=2\n",
    "model_args.evaluate_during_training_steps=32 # how often you want to run validation in terms of training steps (or batches)"
   ]
  },
  {
   "cell_type": "code",
   "execution_count": 12,
   "metadata": {
    "colab": {
     "base_uri": "https://localhost:8080/"
    },
    "id": "_tlq76BK-9qg",
    "outputId": "28356ced-7dcd-4e68-d9c7-f0495d377fa0"
   },
   "outputs": [
    {
     "name": "stdout",
     "output_type": "stream",
     "text": [
      "Each epoch will have 67 steps.\n"
     ]
    }
   ],
   "source": [
    "# Checking steps per epoch\n",
    "steps_per_epoch = int(np.ceil(len(train) / float(model_args.train_batch_size)))\n",
    "print('Each epoch will have {:,} steps.'.format(steps_per_epoch)) # 64 steps = validating 2 times per epoch"
   ]
  },
  {
   "cell_type": "code",
   "execution_count": 13,
   "metadata": {
    "colab": {
     "base_uri": "https://localhost:8080/"
    },
    "id": "pn4cSkIISpXC",
    "outputId": "b33d2930-59f3-4bca-a2fb-40f8d5ecdb36"
   },
   "outputs": [
    {
     "name": "stderr",
     "output_type": "stream",
     "text": [
      "Some weights of the model checkpoint at bert-base-cased were not used when initializing BertForSequenceClassification: ['cls.predictions.bias', 'cls.predictions.transform.dense.weight', 'cls.predictions.transform.LayerNorm.bias', 'cls.predictions.transform.dense.bias', 'cls.predictions.transform.LayerNorm.weight', 'cls.seq_relationship.weight', 'cls.seq_relationship.bias', 'cls.predictions.decoder.weight']\n",
      "- This IS expected if you are initializing BertForSequenceClassification from the checkpoint of a model trained on another task or with another architecture (e.g. initializing a BertForSequenceClassification model from a BertForPreTraining model).\n",
      "- This IS NOT expected if you are initializing BertForSequenceClassification from the checkpoint of a model that you expect to be exactly identical (initializing a BertForSequenceClassification model from a BertForSequenceClassification model).\n",
      "Some weights of BertForSequenceClassification were not initialized from the model checkpoint at bert-base-cased and are newly initialized: ['classifier.bias', 'classifier.weight']\n",
      "You should probably TRAIN this model on a down-stream task to be able to use it for predictions and inference.\n"
     ]
    }
   ],
   "source": [
    "model = ClassificationModel('bert', 'bert-base-cased', num_labels=4, args=model_args, use_cuda=False)"
   ]
  },
  {
   "cell_type": "code",
   "execution_count": 14,
   "metadata": {
    "colab": {
     "base_uri": "https://localhost:8080/"
    },
    "id": "MbarEDvgTJpT",
    "outputId": "47cd5749-1f9e-4f21-8eb9-c77f9edc587d"
   },
   "outputs": [
    {
     "name": "stdout",
     "output_type": "stream",
     "text": [
      "ClassificationArgs(adafactor_beta1=None\n",
      " adafactor_clip_threshold=1.0\n",
      " adafactor_decay_rate=-0.8\n",
      " adafactor_eps=(1e-30\n",
      " 0.001)\n",
      " adafactor_relative_step=True\n",
      " adafactor_scale_parameter=True\n",
      " adafactor_warmup_init=True\n",
      " adam_betas=(0.9\n",
      " 0.999)\n",
      " adam_epsilon=1e-08\n",
      " best_model_dir='outputs/best_model'\n",
      " cache_dir='cache_dir/'\n",
      " config={}\n",
      " cosine_schedule_num_cycles=0.5\n",
      " custom_layer_parameters=[]\n",
      " custom_parameter_groups=[]\n",
      " dataloader_num_workers=0\n",
      " do_lower_case=False\n",
      " dynamic_quantize=False\n",
      " early_stopping_consider_epochs=False\n",
      " early_stopping_delta=0.01\n",
      " early_stopping_metric='eval_loss'\n",
      " early_stopping_metric_minimize=True\n",
      " early_stopping_patience=2\n",
      " encoding=None\n",
      " eval_batch_size=8\n",
      " evaluate_during_training=True\n",
      " evaluate_during_training_silent=True\n",
      " evaluate_during_training_steps=32\n",
      " evaluate_during_training_verbose=False\n",
      " evaluate_each_epoch=True\n",
      " fp16=False\n",
      " gradient_accumulation_steps=1\n",
      " learning_rate=4e-06\n",
      " local_rank=-1\n",
      " logging_steps=50\n",
      " loss_type=None\n",
      " loss_args={}\n",
      " manual_seed=None\n",
      " max_grad_norm=1.0\n",
      " max_seq_length=256\n",
      " model_name='bert-base-cased'\n",
      " model_type='bert'\n",
      " multiprocessing_chunksize=-1\n",
      " n_gpu=1\n",
      " no_cache=False\n",
      " no_save=False\n",
      " not_saved_args=[]\n",
      " num_train_epochs=10\n",
      " optimizer='AdamW'\n",
      " output_dir='outputs/'\n",
      " overwrite_output_dir=True\n",
      " polynomial_decay_schedule_lr_end=1e-07\n",
      " polynomial_decay_schedule_power=1.0\n",
      " process_count=10\n",
      " quantized_model=False\n",
      " reprocess_input_data=True\n",
      " save_best_model=True\n",
      " save_eval_checkpoints=True\n",
      " save_model_every_epoch=True\n",
      " save_optimizer_and_scheduler=True\n",
      " save_steps=2000\n",
      " scheduler='linear_schedule_with_warmup'\n",
      " silent=False\n",
      " skip_special_tokens=True\n",
      " tensorboard_dir=None\n",
      " thread_count=None\n",
      " tokenizer_name='bert-base-cased'\n",
      " tokenizer_type=None\n",
      " train_batch_size=32\n",
      " train_custom_parameters_only=False\n",
      " use_cached_eval_features=False\n",
      " use_early_stopping=True\n",
      " use_hf_datasets=False\n",
      " use_multiprocessing=True\n",
      " use_multiprocessing_for_evaluation=True\n",
      " wandb_kwargs={}\n",
      " wandb_project=None\n",
      " warmup_ratio=0.06\n",
      " warmup_steps=0\n",
      " weight_decay=0.0\n",
      " model_class='ClassificationModel'\n",
      " labels_list=[0\n",
      " 1\n",
      " 2\n",
      " 3]\n",
      " labels_map={}\n",
      " lazy_delimiter='\\t'\n",
      " lazy_labels_column=1\n",
      " lazy_loading=False\n",
      " lazy_loading_start_line=1\n",
      " lazy_text_a_column=None\n",
      " lazy_text_b_column=None\n",
      " lazy_text_column=0\n",
      " onnx=False\n",
      " regression=False\n",
      " sliding_window=False\n",
      " special_tokens_list=[]\n",
      " stride=0.8\n",
      " tie_value=1)\n"
     ]
    }
   ],
   "source": [
    "print(str(model.args).replace(',', '\\n')) # model args"
   ]
  },
  {
   "cell_type": "code",
   "execution_count": 15,
   "metadata": {
    "colab": {
     "base_uri": "https://localhost:8080/",
     "height": 154
    },
    "id": "7rjJx_okTOVy",
    "outputId": "b674b6dd-9a61-41ed-92d1-e8a091b8c111"
   },
   "outputs": [
    {
     "data": {
      "application/vnd.jupyter.widget-view+json": {
       "model_id": "f5a8d5cf27f04aeb92b629f22ce732b1",
       "version_major": 2,
       "version_minor": 0
      },
      "text/plain": [
       "  0%|          | 0/2114 [00:00<?, ?it/s]"
      ]
     },
     "metadata": {},
     "output_type": "display_data"
    },
    {
     "data": {
      "application/vnd.jupyter.widget-view+json": {
       "model_id": "7a15d4ee9009486ab7d674859f845d9c",
       "version_major": 2,
       "version_minor": 0
      },
      "text/plain": [
       "Epoch:   0%|          | 0/10 [00:00<?, ?it/s]"
      ]
     },
     "metadata": {},
     "output_type": "display_data"
    },
    {
     "data": {
      "application/vnd.jupyter.widget-view+json": {
       "model_id": "0e2efac1bf494b29b33c009c36f61776",
       "version_major": 2,
       "version_minor": 0
      },
      "text/plain": [
       "Running Epoch 0 of 10:   0%|          | 0/67 [00:00<?, ?it/s]"
      ]
     },
     "metadata": {},
     "output_type": "display_data"
    },
    {
     "data": {
      "application/vnd.jupyter.widget-view+json": {
       "model_id": "fef2cd468aae47dda292647f08a07b40",
       "version_major": 2,
       "version_minor": 0
      },
      "text/plain": [
       "  0%|          | 0/235 [00:00<?, ?it/s]"
      ]
     },
     "metadata": {},
     "output_type": "display_data"
    },
    {
     "data": {
      "application/vnd.jupyter.widget-view+json": {
       "model_id": "b3bc10369b8b4d94ac2105e7a9a84c15",
       "version_major": 2,
       "version_minor": 0
      },
      "text/plain": [
       "  0%|          | 0/235 [00:00<?, ?it/s]"
      ]
     },
     "metadata": {},
     "output_type": "display_data"
    },
    {
     "data": {
      "application/vnd.jupyter.widget-view+json": {
       "model_id": "f3428fde9d424b2fa92185cc116465a4",
       "version_major": 2,
       "version_minor": 0
      },
      "text/plain": [
       "  0%|          | 0/235 [00:00<?, ?it/s]"
      ]
     },
     "metadata": {},
     "output_type": "display_data"
    },
    {
     "data": {
      "application/vnd.jupyter.widget-view+json": {
       "model_id": "b381ddf19f9b44a18811c398dfc68270",
       "version_major": 2,
       "version_minor": 0
      },
      "text/plain": [
       "Running Epoch 1 of 10:   0%|          | 0/67 [00:00<?, ?it/s]"
      ]
     },
     "metadata": {},
     "output_type": "display_data"
    },
    {
     "data": {
      "application/vnd.jupyter.widget-view+json": {
       "model_id": "dffe2d935b7e472da2501e1ffcebdfac",
       "version_major": 2,
       "version_minor": 0
      },
      "text/plain": [
       "  0%|          | 0/235 [00:00<?, ?it/s]"
      ]
     },
     "metadata": {},
     "output_type": "display_data"
    },
    {
     "data": {
      "application/vnd.jupyter.widget-view+json": {
       "model_id": "3de287e7c5fb4e91a614a465d2f85771",
       "version_major": 2,
       "version_minor": 0
      },
      "text/plain": [
       "  0%|          | 0/235 [00:00<?, ?it/s]"
      ]
     },
     "metadata": {},
     "output_type": "display_data"
    },
    {
     "data": {
      "application/vnd.jupyter.widget-view+json": {
       "model_id": "ae3daa5bd75b41d691823366a3d124d8",
       "version_major": 2,
       "version_minor": 0
      },
      "text/plain": [
       "  0%|          | 0/235 [00:00<?, ?it/s]"
      ]
     },
     "metadata": {},
     "output_type": "display_data"
    },
    {
     "data": {
      "application/vnd.jupyter.widget-view+json": {
       "model_id": "d9f5ed31104b4ffea9eea80568470e7b",
       "version_major": 2,
       "version_minor": 0
      },
      "text/plain": [
       "Running Epoch 2 of 10:   0%|          | 0/67 [00:00<?, ?it/s]"
      ]
     },
     "metadata": {},
     "output_type": "display_data"
    },
    {
     "data": {
      "application/vnd.jupyter.widget-view+json": {
       "model_id": "9a8a51fb175e4e30bc8af50b8f4a518f",
       "version_major": 2,
       "version_minor": 0
      },
      "text/plain": [
       "  0%|          | 0/235 [00:00<?, ?it/s]"
      ]
     },
     "metadata": {},
     "output_type": "display_data"
    },
    {
     "data": {
      "application/vnd.jupyter.widget-view+json": {
       "model_id": "08f10b88fd0a41d38a502776dc319089",
       "version_major": 2,
       "version_minor": 0
      },
      "text/plain": [
       "  0%|          | 0/235 [00:00<?, ?it/s]"
      ]
     },
     "metadata": {},
     "output_type": "display_data"
    },
    {
     "data": {
      "application/vnd.jupyter.widget-view+json": {
       "model_id": "7d216086be1743b496493909a1bcda92",
       "version_major": 2,
       "version_minor": 0
      },
      "text/plain": [
       "  0%|          | 0/235 [00:00<?, ?it/s]"
      ]
     },
     "metadata": {},
     "output_type": "display_data"
    },
    {
     "data": {
      "application/vnd.jupyter.widget-view+json": {
       "model_id": "78b9839edd6b4db782c8ffe161b26a7b",
       "version_major": 2,
       "version_minor": 0
      },
      "text/plain": [
       "Running Epoch 3 of 10:   0%|          | 0/67 [00:00<?, ?it/s]"
      ]
     },
     "metadata": {},
     "output_type": "display_data"
    },
    {
     "data": {
      "application/vnd.jupyter.widget-view+json": {
       "model_id": "3fc36ccacdce42fe9caaa8bf607465bb",
       "version_major": 2,
       "version_minor": 0
      },
      "text/plain": [
       "  0%|          | 0/235 [00:00<?, ?it/s]"
      ]
     },
     "metadata": {},
     "output_type": "display_data"
    },
    {
     "data": {
      "application/vnd.jupyter.widget-view+json": {
       "model_id": "737fc607dddf41bcb3363cb5bc896dc6",
       "version_major": 2,
       "version_minor": 0
      },
      "text/plain": [
       "  0%|          | 0/235 [00:00<?, ?it/s]"
      ]
     },
     "metadata": {},
     "output_type": "display_data"
    },
    {
     "data": {
      "application/vnd.jupyter.widget-view+json": {
       "model_id": "cf6edcd89f0e4deb8933aae81fcccd7d",
       "version_major": 2,
       "version_minor": 0
      },
      "text/plain": [
       "  0%|          | 0/235 [00:00<?, ?it/s]"
      ]
     },
     "metadata": {},
     "output_type": "display_data"
    },
    {
     "data": {
      "application/vnd.jupyter.widget-view+json": {
       "model_id": "831b5582f1454fc78d1b966839e32567",
       "version_major": 2,
       "version_minor": 0
      },
      "text/plain": [
       "Running Epoch 4 of 10:   0%|          | 0/67 [00:00<?, ?it/s]"
      ]
     },
     "metadata": {},
     "output_type": "display_data"
    },
    {
     "data": {
      "application/vnd.jupyter.widget-view+json": {
       "model_id": "1cdff9ea9ae3471ca7ddc959247509a3",
       "version_major": 2,
       "version_minor": 0
      },
      "text/plain": [
       "  0%|          | 0/235 [00:00<?, ?it/s]"
      ]
     },
     "metadata": {},
     "output_type": "display_data"
    },
    {
     "data": {
      "application/vnd.jupyter.widget-view+json": {
       "model_id": "1346408f7a9f418b8c516b31b783576f",
       "version_major": 2,
       "version_minor": 0
      },
      "text/plain": [
       "  0%|          | 0/235 [00:00<?, ?it/s]"
      ]
     },
     "metadata": {},
     "output_type": "display_data"
    },
    {
     "data": {
      "application/vnd.jupyter.widget-view+json": {
       "model_id": "2b82059969234bdd98c675603832dd33",
       "version_major": 2,
       "version_minor": 0
      },
      "text/plain": [
       "  0%|          | 0/235 [00:00<?, ?it/s]"
      ]
     },
     "metadata": {},
     "output_type": "display_data"
    },
    {
     "data": {
      "application/vnd.jupyter.widget-view+json": {
       "model_id": "402d3d73ae134574889408e23be70b39",
       "version_major": 2,
       "version_minor": 0
      },
      "text/plain": [
       "Running Epoch 5 of 10:   0%|          | 0/67 [00:00<?, ?it/s]"
      ]
     },
     "metadata": {},
     "output_type": "display_data"
    },
    {
     "data": {
      "application/vnd.jupyter.widget-view+json": {
       "model_id": "6b77374b01b24a3587f23cc168f77239",
       "version_major": 2,
       "version_minor": 0
      },
      "text/plain": [
       "  0%|          | 0/235 [00:00<?, ?it/s]"
      ]
     },
     "metadata": {},
     "output_type": "display_data"
    },
    {
     "data": {
      "application/vnd.jupyter.widget-view+json": {
       "model_id": "1ae31b2c58e8446398705fd8cbf7423c",
       "version_major": 2,
       "version_minor": 0
      },
      "text/plain": [
       "  0%|          | 0/235 [00:00<?, ?it/s]"
      ]
     },
     "metadata": {},
     "output_type": "display_data"
    },
    {
     "data": {
      "application/vnd.jupyter.widget-view+json": {
       "model_id": "ecbfbe0f4abf48dfb2420d0f5451b8e8",
       "version_major": 2,
       "version_minor": 0
      },
      "text/plain": [
       "  0%|          | 0/235 [00:00<?, ?it/s]"
      ]
     },
     "metadata": {},
     "output_type": "display_data"
    },
    {
     "data": {
      "application/vnd.jupyter.widget-view+json": {
       "model_id": "6cf16f398f3c40f29134e674ec7c9eaa",
       "version_major": 2,
       "version_minor": 0
      },
      "text/plain": [
       "Running Epoch 6 of 10:   0%|          | 0/67 [00:00<?, ?it/s]"
      ]
     },
     "metadata": {},
     "output_type": "display_data"
    },
    {
     "data": {
      "application/vnd.jupyter.widget-view+json": {
       "model_id": "7883c82d18594071a35aa96c391a9352",
       "version_major": 2,
       "version_minor": 0
      },
      "text/plain": [
       "  0%|          | 0/235 [00:00<?, ?it/s]"
      ]
     },
     "metadata": {},
     "output_type": "display_data"
    },
    {
     "data": {
      "application/vnd.jupyter.widget-view+json": {
       "model_id": "f67dbd6c838541739439bf3ec1d280ea",
       "version_major": 2,
       "version_minor": 0
      },
      "text/plain": [
       "  0%|          | 0/235 [00:00<?, ?it/s]"
      ]
     },
     "metadata": {},
     "output_type": "display_data"
    },
    {
     "data": {
      "application/vnd.jupyter.widget-view+json": {
       "model_id": "c22d1ecc35e44dad845d41333fe99fa7",
       "version_major": 2,
       "version_minor": 0
      },
      "text/plain": [
       "  0%|          | 0/235 [00:00<?, ?it/s]"
      ]
     },
     "metadata": {},
     "output_type": "display_data"
    },
    {
     "data": {
      "application/vnd.jupyter.widget-view+json": {
       "model_id": "50b56d0215d949b194274b9473c0946e",
       "version_major": 2,
       "version_minor": 0
      },
      "text/plain": [
       "Running Epoch 7 of 10:   0%|          | 0/67 [00:00<?, ?it/s]"
      ]
     },
     "metadata": {},
     "output_type": "display_data"
    },
    {
     "data": {
      "application/vnd.jupyter.widget-view+json": {
       "model_id": "91556a903aee4f1ab912027a73ee34d7",
       "version_major": 2,
       "version_minor": 0
      },
      "text/plain": [
       "  0%|          | 0/235 [00:00<?, ?it/s]"
      ]
     },
     "metadata": {},
     "output_type": "display_data"
    },
    {
     "data": {
      "application/vnd.jupyter.widget-view+json": {
       "model_id": "5279b8aaecae411abe7c55a6ccdefa2a",
       "version_major": 2,
       "version_minor": 0
      },
      "text/plain": [
       "  0%|          | 0/235 [00:00<?, ?it/s]"
      ]
     },
     "metadata": {},
     "output_type": "display_data"
    },
    {
     "data": {
      "application/vnd.jupyter.widget-view+json": {
       "model_id": "2be5d20407f241b089f13bf1fa99d24b",
       "version_major": 2,
       "version_minor": 0
      },
      "text/plain": [
       "  0%|          | 0/235 [00:00<?, ?it/s]"
      ]
     },
     "metadata": {},
     "output_type": "display_data"
    },
    {
     "data": {
      "application/vnd.jupyter.widget-view+json": {
       "model_id": "fb1f995f375a4d45a30fd9023929fb52",
       "version_major": 2,
       "version_minor": 0
      },
      "text/plain": [
       "Running Epoch 8 of 10:   0%|          | 0/67 [00:00<?, ?it/s]"
      ]
     },
     "metadata": {},
     "output_type": "display_data"
    },
    {
     "data": {
      "application/vnd.jupyter.widget-view+json": {
       "model_id": "33155e07cad944b388e40d066b19e404",
       "version_major": 2,
       "version_minor": 0
      },
      "text/plain": [
       "  0%|          | 0/235 [00:00<?, ?it/s]"
      ]
     },
     "metadata": {},
     "output_type": "display_data"
    },
    {
     "name": "stdout",
     "output_type": "stream",
     "text": [
      "Wall time: 7h 51min 50s\n"
     ]
    }
   ],
   "source": [
    "%%time\n",
    "_, history = model.train_model(train, eval_df=dev) "
   ]
  },
  {
   "cell_type": "markdown",
   "metadata": {},
   "source": [
    "## Evaluating results"
   ]
  },
  {
   "cell_type": "code",
   "execution_count": 16,
   "metadata": {
    "id": "Tr0Rc2pATO3u"
   },
   "outputs": [
    {
     "data": {
      "text/plain": [
       "<matplotlib.legend.Legend at 0x229010db7c0>"
      ]
     },
     "execution_count": 16,
     "metadata": {},
     "output_type": "execute_result"
    },
    {
     "data": {
      "image/png": "[encoded data removed]",
      "text/plain": [
       "<Figure size 432x288 with 1 Axes>"
      ]
     },
     "metadata": {
      "needs_background": "light"
     },
     "output_type": "display_data"
    }
   ],
   "source": [
    "# Training and evaluation loss\n",
    "train_loss = history['train_loss']\n",
    "eval_loss = history['eval_loss']\n",
    "plt.plot(train_loss, label='Training loss')\n",
    "plt.plot(eval_loss, label='Evaluation loss')\n",
    "plt.title('Training and evaluation loss')\n",
    "plt.legend()"
   ]
  },
  {
   "cell_type": "code",
   "execution_count": 17,
   "metadata": {
    "id": "-TqWNjRuTQ1x"
   },
   "outputs": [
    {
     "data": {
      "application/vnd.jupyter.widget-view+json": {
       "model_id": "aa378c00bf8c47919174b05539cda9ea",
       "version_major": 2,
       "version_minor": 0
      },
      "text/plain": [
       "  0%|          | 0/235 [00:00<?, ?it/s]"
      ]
     },
     "metadata": {},
     "output_type": "display_data"
    },
    {
     "data": {
      "application/vnd.jupyter.widget-view+json": {
       "model_id": "14f0ac627d7f44af81c89a237b50b326",
       "version_major": 2,
       "version_minor": 0
      },
      "text/plain": [
       "Running Evaluation:   0%|          | 0/30 [00:00<?, ?it/s]"
      ]
     },
     "metadata": {},
     "output_type": "display_data"
    },
    {
     "data": {
      "text/plain": [
       "{'mcc': 0.8714767009386919, 'eval_loss': 0.27507093685368694}"
      ]
     },
     "execution_count": 17,
     "metadata": {},
     "output_type": "execute_result"
    }
   ],
   "source": [
    "result, model_outputs, wrong_predictions = model.eval_model(dev)\n",
    "result"
   ]
  },
  {
   "cell_type": "code",
   "execution_count": 38,
   "metadata": {
    "id": "3_urVlCZVI4f"
   },
   "outputs": [
    {
     "data": {
      "application/vnd.jupyter.widget-view+json": {
       "model_id": "421048ed74d44f6190bdb30db4368bcf",
       "version_major": 2,
       "version_minor": 0
      },
      "text/plain": [
       "  0%|          | 0/10 [00:00<?, ?it/s]"
      ]
     },
     "metadata": {},
     "output_type": "display_data"
    },
    {
     "data": {
      "application/vnd.jupyter.widget-view+json": {
       "model_id": "0987447190cd44b591171a48f93437a0",
       "version_major": 2,
       "version_minor": 0
      },
      "text/plain": [
       "  0%|          | 0/2 [00:00<?, ?it/s]"
      ]
     },
     "metadata": {},
     "output_type": "display_data"
    }
   ],
   "source": [
    "predicted, probabilities = model.predict(test.text.to_list())\n",
    "test['predicted'] = predicted"
   ]
  },
  {
   "cell_type": "code",
   "execution_count": 40,
   "metadata": {
    "id": "ndeRZymdVKjO"
   },
   "outputs": [
    {
     "name": "stdout",
     "output_type": "stream",
     "text": [
      "              precision    recall  f1-score   support\n",
      "\n",
      "           0       0.00      0.00      0.00         5\n",
      "           1       1.00      0.67      0.80         3\n",
      "           2       0.17      0.50      0.25         2\n",
      "           3       0.00      0.00      0.00         0\n",
      "\n",
      "    accuracy                           0.30        10\n",
      "   macro avg       0.29      0.29      0.26        10\n",
      "weighted avg       0.33      0.30      0.29        10\n",
      "\n"
     ]
    },
    {
     "name": "stderr",
     "output_type": "stream",
     "text": [
      "C:\\Users\\angel\\anaconda3\\lib\\site-packages\\sklearn\\metrics\\_classification.py:1245: UndefinedMetricWarning: Precision and F-score are ill-defined and being set to 0.0 in labels with no predicted samples. Use `zero_division` parameter to control this behavior.\n",
      "  _warn_prf(average, modifier, msg_start, len(result))\n",
      "C:\\Users\\angel\\anaconda3\\lib\\site-packages\\sklearn\\metrics\\_classification.py:1245: UndefinedMetricWarning: Recall and F-score are ill-defined and being set to 0.0 in labels with no true samples. Use `zero_division` parameter to control this behavior.\n",
      "  _warn_prf(average, modifier, msg_start, len(result))\n",
      "C:\\Users\\angel\\anaconda3\\lib\\site-packages\\sklearn\\metrics\\_classification.py:1245: UndefinedMetricWarning: Precision and F-score are ill-defined and being set to 0.0 in labels with no predicted samples. Use `zero_division` parameter to control this behavior.\n",
      "  _warn_prf(average, modifier, msg_start, len(result))\n",
      "C:\\Users\\angel\\anaconda3\\lib\\site-packages\\sklearn\\metrics\\_classification.py:1245: UndefinedMetricWarning: Recall and F-score are ill-defined and being set to 0.0 in labels with no true samples. Use `zero_division` parameter to control this behavior.\n",
      "  _warn_prf(average, modifier, msg_start, len(result))\n",
      "C:\\Users\\angel\\anaconda3\\lib\\site-packages\\sklearn\\metrics\\_classification.py:1245: UndefinedMetricWarning: Precision and F-score are ill-defined and being set to 0.0 in labels with no predicted samples. Use `zero_division` parameter to control this behavior.\n",
      "  _warn_prf(average, modifier, msg_start, len(result))\n",
      "C:\\Users\\angel\\anaconda3\\lib\\site-packages\\sklearn\\metrics\\_classification.py:1245: UndefinedMetricWarning: Recall and F-score are ill-defined and being set to 0.0 in labels with no true samples. Use `zero_division` parameter to control this behavior.\n",
      "  _warn_prf(average, modifier, msg_start, len(result))\n"
     ]
    }
   ],
   "source": [
    "print(classification_report(test['labels'], test['predicted']))"
   ]
  }
 ],
 "metadata": {
  "colab": {
   "provenance": []
  },
  "kernelspec": {
   "display_name": "Python 3",
   "language": "python",
   "name": "python3"
  },
  "language_info": {
   "codemirror_mode": {
    "name": "ipython",
    "version": 3
   },
   "file_extension": ".py",
   "mimetype": "text/x-python",
   "name": "python",
   "nbconvert_exporter": "python",
   "pygments_lexer": "ipython3",
   "version": "3.8.8"
  }
 },
 "nbformat": 4,
 "nbformat_minor": 1
}
